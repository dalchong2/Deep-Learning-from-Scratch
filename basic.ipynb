{
 "cells": [
  {
   "cell_type": "code",
   "execution_count": 5,
   "metadata": {},
   "outputs": [],
   "source": [
    "import pandas as pd\n",
    "import tensorflow as tf  \n"
   ]
  },
  {
   "cell_type": "code",
   "execution_count": 11,
   "metadata": {},
   "outputs": [
    {
     "name": "stdout",
     "output_type": "stream",
     "text": [
      "    0 |     2.4520 |     0.3760 | 45.660004\n",
      "   10 |     1.1036 |     0.0034 |  0.206336\n",
      "   20 |     1.0128 |    -0.0209 |  0.001026\n",
      "   30 |     1.0065 |    -0.0218 |  0.000093\n",
      "   40 |     1.0059 |    -0.0212 |  0.000083\n",
      "   50 |     1.0057 |    -0.0205 |  0.000077\n",
      "   60 |     1.0055 |    -0.0198 |  0.000072\n",
      "   70 |     1.0053 |    -0.0192 |  0.000067\n",
      "   80 |     1.0051 |    -0.0185 |  0.000063\n",
      "   90 |     1.0050 |    -0.0179 |  0.000059\n",
      "  100 |     1.0048 |    -0.0173 |  0.000055\n"
     ]
    }
   ],
   "source": [
    "tf.enable_eager_execution()\n",
    "\n",
    "x_data =[1, 2,3,4,5]\n",
    "y_data = [1,2,3,4,5]\n",
    "\n",
    "W = tf.Variable(2.9) #초기값으로 임의의 값을 넣는다. 나중에는 random한 값을 넣는다. \n",
    "b = tf.Variable(0.5)\n",
    "\n",
    "learning_rate = 0.01 \n",
    "\n",
    "for i in range(100+1):\n",
    "    with tf.GradientTape() as tape:\n",
    "        hypothesis = W *x_data + b\n",
    "        cost = tf.reduce_mean(tf.square(hypothesis - y_data))\n",
    "    \n",
    "    W_grad, b_grad =tape.gradient(cost, [W, b]) \n",
    "    W.assign_sub(learning_rate * W_grad)\n",
    "    b.assign_sub(learning_rate* b_grad)\n",
    "    if i% 10 ==0:\n",
    "        print(\"{:5} | {:10.4f} | {:10.4f} |{:10.6f}\".format(i, W.numpy(), b.numpy(), cost))\n",
    "        \n"
   ]
  },
  {
   "cell_type": "code",
   "execution_count": 9,
   "metadata": {},
   "outputs": [
    {
     "name": "stdout",
     "output_type": "stream",
     "text": [
      "Tensor(\"Mean_1:0\", shape=(), dtype=float32)\n"
     ]
    }
   ],
   "source": [
    "cost = tf.reduce_mean(tf.square(hypothesis - y_data))\n",
    "print(cost)"
   ]
  },
  {
   "cell_type": "code",
   "execution_count": 10,
   "metadata": {},
   "outputs": [
    {
     "data": {
      "text/plain": [
       "<tf.Tensor 'Mean_2:0' shape=() dtype=float32>"
      ]
     },
     "execution_count": 10,
     "metadata": {},
     "output_type": "execute_result"
    }
   ],
   "source": [
    "v = [1.,2.,3.,4.]\n",
    "tf.reduce_mean(v) #redue_mean을 사용하면 rank가 한자리 줄어든다. 여기서는 1차원 행렬이 0차원 스칼라 값인 2.5가 된다. "
   ]
  },
  {
   "cell_type": "code",
   "execution_count": null,
   "metadata": {},
   "outputs": [],
   "source": []
  },
  {
   "cell_type": "code",
   "execution_count": null,
   "metadata": {},
   "outputs": [],
   "source": []
  }
 ],
 "metadata": {
  "kernelspec": {
   "display_name": "Python 3",
   "language": "python",
   "name": "python3"
  },
  "language_info": {
   "codemirror_mode": {
    "name": "ipython",
    "version": 3
   },
   "file_extension": ".py",
   "mimetype": "text/x-python",
   "name": "python",
   "nbconvert_exporter": "python",
   "pygments_lexer": "ipython3",
   "version": "3.7.6"
  }
 },
 "nbformat": 4,
 "nbformat_minor": 4
}
